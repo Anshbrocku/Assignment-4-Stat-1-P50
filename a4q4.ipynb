{
 "cells": [
  {
   "cell_type": "code",
   "execution_count": 23,
   "id": "b296fc2a",
   "metadata": {},
   "outputs": [
    {
     "name": "stdout",
     "output_type": "stream",
     "text": [
      "Epoch 1/10\n",
      "1875/1875 [==============================] - 7s 4ms/step - loss: 0.0000e+00 - accuracy: 0.1124\n",
      "Epoch 2/10\n",
      "1875/1875 [==============================] - 9s 5ms/step - loss: 0.0000e+00 - accuracy: 0.1124\n",
      "Epoch 3/10\n",
      "1875/1875 [==============================] - 9s 5ms/step - loss: 0.0000e+00 - accuracy: 0.1124\n",
      "Epoch 4/10\n",
      "1875/1875 [==============================] - 9s 5ms/step - loss: 0.0000e+00 - accuracy: 0.1124\n",
      "Epoch 5/10\n",
      "1875/1875 [==============================] - 8s 4ms/step - loss: 0.0000e+00 - accuracy: 0.1124\n",
      "Epoch 6/10\n",
      "1875/1875 [==============================] - 8s 4ms/step - loss: 0.0000e+00 - accuracy: 0.1124\n",
      "Epoch 7/10\n",
      "1875/1875 [==============================] - 8s 5ms/step - loss: 0.0000e+00 - accuracy: 0.1124\n",
      "Epoch 8/10\n",
      "1875/1875 [==============================] - 8s 4ms/step - loss: 0.0000e+00 - accuracy: 0.1124\n",
      "Epoch 9/10\n",
      "1875/1875 [==============================] - 8s 4ms/step - loss: 0.0000e+00 - accuracy: 0.1124\n",
      "Epoch 10/10\n",
      "1875/1875 [==============================] - 9s 5ms/step - loss: 0.0000e+00 - accuracy: 0.1124\n",
      "313/313 [==============================] - 1s 2ms/step - loss: 0.0000e+00 - accuracy: 0.1135\n",
      "[0.0, 0.11349999904632568]\n"
     ]
    }
   ],
   "source": [
    "from tensorflow.keras.datasets import mnist\n",
    "from tensorflow.keras.models import Sequential\n",
    "from tensorflow.keras.layers import Dense, InputLayer\n",
    "model=Sequential()\n",
    "input_layer = InputLayer(input_shape=(784,))\n",
    "model.add(input_layer)\n",
    "hidden_layer = Dense(392)\n",
    "model.add(hidden_layer)\n",
    "hidden_layer = Dense(96)\n",
    "model.add(hidden_layer)\n",
    "hidden_layer = Dense(98)\n",
    "model.add(hidden_layer)\n",
    "hidden_layer = Dense(49)\n",
    "model.add(hidden_layer)\n",
    "hidden_layer = Dense(9)\n",
    "model.add(hidden_layer)\n",
    "\n",
    "output_layer=Dense(1,activation='softmax')\n",
    "model.add(output_layer)\n",
    "model.compile(loss = 'categorical_crossentropy', metrics =\n",
    "['accuracy'])\n",
    "\n",
    "(X_train, y_train), (X_test, y_test) = mnist.load_data()\n",
    "number_of_training_instances = X_train.shape[0]\n",
    "number_of_testing_instances = X_test.shape[0]\n",
    "X_train = X_train.reshape((number_of_training_instances, 28*28))\n",
    "X_test = X_test.reshape((number_of_testing_instances, 28*28))\n",
    "model.fit(X_train, y_train, epochs = 10)\n",
    "performance = model.evaluate(X_test, y_test)\n",
    "print(performance)\n",
    "model.save('digits_model.h5')\n",
    "\n"
   ]
  }
 ],
 "metadata": {
  "kernelspec": {
   "display_name": "Python 3 (ipykernel)",
   "language": "python",
   "name": "python3"
  },
  "language_info": {
   "codemirror_mode": {
    "name": "ipython",
    "version": 3
   },
   "file_extension": ".py",
   "mimetype": "text/x-python",
   "name": "python",
   "nbconvert_exporter": "python",
   "pygments_lexer": "ipython3",
   "version": "3.9.7"
  }
 },
 "nbformat": 4,
 "nbformat_minor": 5
}
