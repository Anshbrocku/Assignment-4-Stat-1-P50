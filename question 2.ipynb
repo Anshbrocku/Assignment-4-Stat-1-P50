{
 "cells": [
  {
   "cell_type": "code",
   "execution_count": 42,
   "id": "0e6c2d2a",
   "metadata": {},
   "outputs": [
    {
     "name": "stdout",
     "output_type": "stream",
     "text": [
      "Epoch 1/10\n",
      "10/10 [==============================] - 0s 3ms/step - loss: 1251.1050\n",
      "Epoch 2/10\n",
      "10/10 [==============================] - 0s 1ms/step - loss: 835.0182\n",
      "Epoch 3/10\n",
      "10/10 [==============================] - 0s 2ms/step - loss: 577.5182\n",
      "Epoch 4/10\n",
      "10/10 [==============================] - 0s 2ms/step - loss: 394.8902\n",
      "Epoch 5/10\n",
      "10/10 [==============================] - 0s 2ms/step - loss: 310.0013\n",
      "Epoch 6/10\n",
      "10/10 [==============================] - 0s 2ms/step - loss: 234.8801\n",
      "Epoch 7/10\n",
      "10/10 [==============================] - 0s 2ms/step - loss: 189.4959\n",
      "Epoch 8/10\n",
      "10/10 [==============================] - 0s 2ms/step - loss: 162.5623\n",
      "Epoch 9/10\n",
      "10/10 [==============================] - 0s 2ms/step - loss: 133.8168\n",
      "Epoch 10/10\n",
      "10/10 [==============================] - 0s 2ms/step - loss: 98.8942\n"
     ]
    },
    {
     "data": {
      "text/plain": [
       "<keras.src.callbacks.History at 0x24d9eea8b20>"
      ]
     },
     "execution_count": 42,
     "metadata": {},
     "output_type": "execute_result"
    }
   ],
   "source": [
    "from sklearn.datasets import load_diabetes\n",
    "from sklearn.preprocessing import MinMaxScaler\n",
    "import tensorflow as tf\n",
    "from tensorflow.keras.layers import Dense, InputLayer\n",
    "from tensorflow.keras.models import Sequential\n",
    "from sklearn.model_selection import train_test_split\n",
    "diabetes = load_diabetes()\n",
    "X = diabetes.data\n",
    "y = diabetes.target.reshape(-1,1)\n",
    "scaler = MinMaxScaler()\n",
    "y_train = scaler.fit_transform(y)\n",
    "\n",
    "model=Sequential()\n",
    "tf.random.set_seed(1)\n",
    "input_layer = InputLayer(input_shape=(10,))\n",
    "model.add(input_layer)\n",
    "hidden_layer = Dense(5)\n",
    "model.add(hidden_layer)\n",
    "hidden_layer = Dense(2)\n",
    "model.add(hidden_layer)\n",
    "\n",
    "output_layer=Dense(1,activation ='relu')\n",
    "model.add(output_layer)\n",
    "model.compile(loss='binary_crossentropy')\n",
    "(X_train,X_test ,y_train , y_test)= train_test_split(X, y,test_size=0.3)\n",
    "model.fit(X_train,y_train,epochs=10)\n",
    "# no the relu function is not a good choice for this model, I would rather use softmax function for the better loss number \n"
   ]
  }
 ],
 "metadata": {
  "kernelspec": {
   "display_name": "Python 3 (ipykernel)",
   "language": "python",
   "name": "python3"
  },
  "language_info": {
   "codemirror_mode": {
    "name": "ipython",
    "version": 3
   },
   "file_extension": ".py",
   "mimetype": "text/x-python",
   "name": "python",
   "nbconvert_exporter": "python",
   "pygments_lexer": "ipython3",
   "version": "3.9.7"
  }
 },
 "nbformat": 4,
 "nbformat_minor": 5
}
